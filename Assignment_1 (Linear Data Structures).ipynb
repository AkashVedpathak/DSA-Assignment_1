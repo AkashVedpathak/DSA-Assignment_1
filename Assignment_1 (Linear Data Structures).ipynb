{
 "cells": [
  {
   "cell_type": "markdown",
   "metadata": {},
   "source": [
    "Q1. Write a program to find all pairs of an integer array whose sum is\n",
    "equal to a given number?"
   ]
  },
  {
   "cell_type": "code",
   "execution_count": 2,
   "metadata": {},
   "outputs": [
    {
     "name": "stdout",
     "output_type": "stream",
     "text": [
      "(1, 4)  \n",
      "(2, 3)  \n",
      "(3, 2)  \n",
      "(1, 4)  \n",
      "(2, 3)  \n"
     ]
    }
   ],
   "source": [
    "def pair(arr,sum):\n",
    "    for i in range(len(arr)):\n",
    "        for j in range(i+1,len(arr)):\n",
    "            if arr[i]+arr[j]==sum:\n",
    "                print((arr[i],arr[j]),\" \")\n",
    "                break\n",
    "arr_list = [1,2,3,-4,5,1,2,3,4]\n",
    "sum = 5\n",
    "pair(arr_list,sum)"
   ]
  },
  {
   "cell_type": "markdown",
   "metadata": {},
   "source": [
    "Q2. Write a program to reverse an array in place? In place means you cannot create a new array. \n",
    "You have to update the original array"
   ]
  },
  {
   "cell_type": "code",
   "execution_count": 5,
   "metadata": {},
   "outputs": [
    {
     "name": "stdout",
     "output_type": "stream",
     "text": [
      "[1, 66, 14, 11, 21]\n"
     ]
    }
   ],
   "source": [
    "def reverse_array(arr):\n",
    "    return arr[::-1]\n",
    "arr=[21,11,14,66,1]\n",
    "ans=reverse_array(arr)\n",
    "print(ans)\n"
   ]
  },
  {
   "cell_type": "markdown",
   "metadata": {},
   "source": [
    "Q3.Write a program to check if two strings are a rotation of each other?"
   ]
  },
  {
   "cell_type": "code",
   "execution_count": 10,
   "metadata": {},
   "outputs": [
    {
     "name": "stdout",
     "output_type": "stream",
     "text": [
      "Strings are rotations of each other\n"
     ]
    }
   ],
   "source": [
    "\n",
    "def roation(string1,string2):\n",
    "    temp=''\n",
    "    if len(string1)==len(string2):\n",
    "        temp=string1+string1\n",
    "    if temp.count(string2)>0:\n",
    "        print(\"Strings are rotations of each other\")\n",
    "    else:\n",
    "        print(\"Strings are not rotations of each other\")\n",
    "\n",
    "str1=input(\"Enter the first srting :\")\n",
    "str2=input(\"Enter the second srting :\")\n",
    "roation(str1,str2)"
   ]
  },
  {
   "cell_type": "markdown",
   "metadata": {},
   "source": [
    "Q4. Write a program to print the first non-repeated character from a string?"
   ]
  },
  {
   "cell_type": "code",
   "execution_count": 15,
   "metadata": {},
   "outputs": [
    {
     "name": "stdout",
     "output_type": "stream",
     "text": [
      "First non-repeated character is k\n"
     ]
    }
   ],
   "source": [
    "\n",
    "\n",
    "def non_repated(str):\n",
    "    for i in str:\n",
    "        count=str.count(i)\n",
    "        if count==1:\n",
    "            print(\"First non-repeated character is\",i)\n",
    "            break\n",
    "    else:\n",
    "        print(\"Non-repeated character not found!\")\n",
    "        \n",
    "string1=input(\"Enter the string:\")\n",
    "non_repated(string1)"
   ]
  },
  {
   "cell_type": "markdown",
   "metadata": {},
   "source": [
    "Q5. Read about the Tower of Hanoi algorithm. Write a program to implement it."
   ]
  },
  {
   "cell_type": "code",
   "execution_count": 20,
   "metadata": {},
   "outputs": [
    {
     "name": "stdout",
     "output_type": "stream",
     "text": [
      "Move disk 1 from rod A to rod C\n",
      "Move disk 2 from rod A to rod B\n",
      "Move disk 1 from rod C to rod B\n",
      "Move disk 3 from rod A to rod C\n",
      "Move disk 1 from rod B to rod A\n",
      "Move disk 2 from rod B to rod C\n",
      "Move disk 1 from rod A to rod C\n"
     ]
    }
   ],
   "source": [
    "def Tower_of_Hanoi(n, from_rod, to_rod, aux_rod):\n",
    "    if n == 0:  \n",
    "        return\n",
    "    Tower_of_Hanoi(n-1, from_rod, aux_rod, to_rod)\n",
    "    print(\"Move disk\", n, \"from rod\", from_rod, \"to rod\", to_rod)\n",
    "    Tower_of_Hanoi(n-1, aux_rod, to_rod, from_rod) \n",
    "num = 3\n",
    "Tower_of_Hanoi(num, 'A', 'C', 'B')"
   ]
  },
  {
   "cell_type": "markdown",
   "metadata": {},
   "source": [
    "Q6. Read about infix, prefix, and postfix expressions. Write a program to convert postfix to prefix expression."
   ]
  },
  {
   "cell_type": "code",
   "execution_count": 21,
   "metadata": {},
   "outputs": [
    {
     "name": "stdout",
     "output_type": "stream",
     "text": [
      "Prefix :  +AB-CD\n"
     ]
    }
   ],
   "source": [
    "def isoperator(n):\n",
    "    if n == \"+\" or n == \"-\" or n == \"/\" or n == \"*\":\n",
    "        return True\n",
    "    return False\n",
    "def post_pre(x):\n",
    "    s = []\n",
    "    length = len(x)\n",
    "    for i in range(length):\n",
    "        if (isoperator(x[i])):\n",
    "            op1 = s[-1]\n",
    "            s.pop()\n",
    "            op2 = s[-1]\n",
    "            s.pop()\n",
    "            temp = x[i] + op2 + op1\n",
    "            s.append(temp)\n",
    "        else:\n",
    "            s.append(x[i])\n",
    "    ans = \"\"\n",
    "    for i in s:\n",
    "        ans += i\n",
    "    return ans\n",
    "\n",
    "x = \"AB+CD-\"\n",
    "print(\"Prefix : \", post_pre(x))"
   ]
  },
  {
   "cell_type": "markdown",
   "metadata": {},
   "source": [
    " Q7. Write a program to convert prefix expression to infix expression."
   ]
  },
  {
   "cell_type": "code",
   "execution_count": 24,
   "metadata": {},
   "outputs": [
    {
     "name": "stdout",
     "output_type": "stream",
     "text": [
      "((A-(B/C))*((A/K)-L))\n"
     ]
    }
   ],
   "source": [
    "\n",
    "def prefixInfix(prefix):\n",
    "    stack = []\n",
    "    length = len(prefix) - 1\n",
    "    while length >= 0:\n",
    "        if not isOperator(prefix[length]):\n",
    "\n",
    "            stack.append(prefix[length])\n",
    "            length -= 1\n",
    "        else:\n",
    "            str = \"(\" + stack.pop() + prefix[length] + stack.pop() + \")\"\n",
    "            stack.append(str)\n",
    "            length -= 1\n",
    "    return stack.pop()\n",
    "def isOperator(string1):\n",
    "    if string1 == \"*\" or string1 == \"+\" or string1 == \"-\" or string1 == \"/\" or string1 == \"^\" or string1 == \"(\" or string1 == \")\":\n",
    "        return True\n",
    "    else:\n",
    "        return False\n",
    "\n",
    "str = \"*-A/BC-/AKL\"\n",
    "print(prefixInfix(str))"
   ]
  },
  {
   "cell_type": "markdown",
   "metadata": {},
   "source": [
    "Q8. Write a program to check if all the brackets are closed in a given code snippet."
   ]
  },
  {
   "cell_type": "code",
   "execution_count": 26,
   "metadata": {},
   "outputs": [
    {
     "name": "stdout",
     "output_type": "stream",
     "text": [
      "Balanced\n"
     ]
    }
   ],
   "source": [
    "def checkbrackets(x):\n",
    "    lst = []\n",
    "    for i in x:\n",
    "        if i in [\"(\", \"{\", \"[\"]:\n",
    "            lst.append(i)   \n",
    "        else:\n",
    "            if not lst:\n",
    "                return False\n",
    "            temp_char = lst.pop()\n",
    "            if temp_char == '(':\n",
    "                if i != \")\":\n",
    "                    return False\n",
    "            if temp_char == '{':\n",
    "                if i != \"}\":\n",
    "                    return False\n",
    "            if temp_char == '[':\n",
    "                if i != \"]\":\n",
    "                    return False\n",
    "    if lst:\n",
    "        return False\n",
    "    return True\n",
    "\n",
    "brackets = \"{()}[()]\"\n",
    "    \n",
    "if checkbrackets(brackets):\n",
    "    print(\"Balanced\")\n",
    "else:\n",
    "    print(\"Not Balanced\")"
   ]
  },
  {
   "cell_type": "markdown",
   "metadata": {},
   "source": [
    "Q9. Write a program to reverse a stack."
   ]
  },
  {
   "cell_type": "code",
   "execution_count": 27,
   "metadata": {},
   "outputs": [
    {
     "name": "stdout",
     "output_type": "stream",
     "text": [
      "Original Stack\n",
      "100\n",
      "200\n",
      "300\n",
      "Reversed Stack\n",
      "300\n",
      "200\n",
      "100\n"
     ]
    }
   ],
   "source": [
    "def reversestack(stack):\n",
    "    stack = reversed(stack)\n",
    "    return list(stack)\n",
    "stack = [100,200,300]\n",
    "print(\"Original Stack\", *stack, sep='\\n')\n",
    "print(\"Reversed Stack\", *reversestack(stack), sep='\\n')"
   ]
  },
  {
   "cell_type": "markdown",
   "metadata": {},
   "source": [
    "Q10. Write a program to find the smallest number using a stack."
   ]
  },
  {
   "cell_type": "code",
   "execution_count": 38,
   "metadata": {},
   "outputs": [
    {
     "name": "stdout",
     "output_type": "stream",
     "text": [
      "The smallest number is: -9\n"
     ]
    }
   ],
   "source": [
    "stack=[51,4,1000,-1,-9,0]\n",
    "def smallestsatck(stack):\n",
    "    stack_sort=sorted(stack)\n",
    "    print ('The smallest number is:', stack_sort[0])\n",
    "smallestsatck(stack)"
   ]
  }
 ],
 "metadata": {
  "kernelspec": {
   "display_name": "Python 3.8.0 64-bit",
   "language": "python",
   "name": "python3"
  },
  "language_info": {
   "codemirror_mode": {
    "name": "ipython",
    "version": 3
   },
   "file_extension": ".py",
   "mimetype": "text/x-python",
   "name": "python",
   "nbconvert_exporter": "python",
   "pygments_lexer": "ipython3",
   "version": "3.8.0"
  },
  "orig_nbformat": 4,
  "vscode": {
   "interpreter": {
    "hash": "c956bd544300c496ec3e1ca7b589e78f83d16fff635302d5cb2063896e2ce087"
   }
  }
 },
 "nbformat": 4,
 "nbformat_minor": 2
}
